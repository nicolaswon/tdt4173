{
 "cells": [
  {
   "cell_type": "code",
   "execution_count": 1,
   "metadata": {},
   "outputs": [],
   "source": [
    "import sys\n",
    "import pandas as pd\n",
    "import numpy as np\n",
    "from sklearn.pipeline import make_pipeline\n",
    "from sklearn.preprocessing import PowerTransformer\n",
    "from sklearn.compose import make_column_transformer, make_column_selector\n",
    "from sklearn.cluster import KMeans\n",
    "from scipy.spatial.distance import cdist\n",
    "\n",
    "sys.path.append(\"/Users/nwong/Workspace/Projects/tdt4173_project/src\")\n",
    "\n",
    "from feature_engineering.sklearn_transformers import *\n",
    "from feature_engineering.store_features import *\n",
    "from feature_engineering.bus_stop_features import *\n",
    "from feature_engineering.utils import *\n",
    "from feature_engineering.demographic_features import *\n",
    "\n",
    "stop_importance_levels = ['Mangler viktighetsnivå',\n",
    "                          'Standard holdeplass',\n",
    "                          'Lokalt knutepunkt',\n",
    "                          'Nasjonalt knutepunkt',\n",
    "                          'Regionalt knutepunkt',\n",
    "                          'Annen viktig holdeplass']\n",
    "store_types = ['lv1_desc', 'lv2_desc', 'lv3_desc', 'lv4_desc']\n",
    "geo_groups = ['grunnkrets_id','t_district','municipality_name']"
   ]
  },
  {
   "cell_type": "code",
   "execution_count": 2,
   "metadata": {},
   "outputs": [
    {
     "name": "stderr",
     "output_type": "stream",
     "text": [
      "/Users/nwong/Workspace/Projects/tdt4173_project/src/feature_engineering/bus_stop_features.py:11: FutureWarning: In a future version of pandas all arguments of StringMethods.split except for the argument 'pat' will be keyword-only.\n",
      "  bus_stops_df[['lon', 'lat']] = bus_stops_df['lng_lat'].str.split(\n"
     ]
    }
   ],
   "source": [
    "stores_train_df = set_year_2016(pd.read_csv(\"/Users/nwong/Workspace/Projects/tdt4173_project/data/raw/stores_train.csv\"))\n",
    "stores_test_df = set_year_2016(pd.read_csv(\"/Users/nwong/Workspace/Projects/tdt4173_project/data/raw/stores_test.csv\"))\n",
    "stores_extra_df = set_year_2016(pd.read_csv(\"/Users/nwong/Workspace/Projects/tdt4173_project/data/raw/stores_extra.csv\"))\n",
    "\n",
    "income_dist = set_year_2016(pd.read_csv(\"/Users/nwong/Workspace/Projects/tdt4173_project/data/raw/grunnkrets_income_households.csv\"))\n",
    "age_dist = set_year_2016(pd.read_csv(\"/Users/nwong/Workspace/Projects/tdt4173_project/data/raw/grunnkrets_age_distribution.csv\"))\n",
    "household_dist = set_year_2016(pd.read_csv(\"/Users/nwong/Workspace/Projects/tdt4173_project/data/raw/grunnkrets_households_num_persons.csv\"))\n",
    "grunnkrets_df = combine_keys(set_year_2016(pd.read_csv(\"/Users/nwong/Workspace/Projects/tdt4173_project/data/raw/grunnkrets_norway_stripped.csv\")))\n",
    "plaace_df = pd.read_csv(\"/Users/nwong/Workspace/Projects/tdt4173_project/data/raw/plaace_hierarchy.csv\")\n",
    "\n",
    "bus_stops_df = bus_stops_lat_lon(pd.read_csv(\"/Users/nwong/Workspace/Projects/tdt4173_project/data/raw/busstops_norway.csv\"))\n"
   ]
  },
  {
   "cell_type": "code",
   "execution_count": 6,
   "metadata": {},
   "outputs": [
    {
     "data": {
      "text/html": [
       "<div>\n",
       "<style scoped>\n",
       "    .dataframe tbody tr th:only-of-type {\n",
       "        vertical-align: middle;\n",
       "    }\n",
       "\n",
       "    .dataframe tbody tr th {\n",
       "        vertical-align: top;\n",
       "    }\n",
       "\n",
       "    .dataframe thead th {\n",
       "        text-align: right;\n",
       "    }\n",
       "</style>\n",
       "<table border=\"1\" class=\"dataframe\">\n",
       "  <thead>\n",
       "    <tr style=\"text-align: right;\">\n",
       "      <th></th>\n",
       "      <th>municipality_name</th>\n",
       "      <th>lv2_desc</th>\n",
       "      <th>count</th>\n",
       "    </tr>\n",
       "  </thead>\n",
       "  <tbody>\n",
       "    <tr>\n",
       "      <th>0</th>\n",
       "      <td>Agdenes</td>\n",
       "      <td>Food and drinks</td>\n",
       "      <td>1</td>\n",
       "    </tr>\n",
       "    <tr>\n",
       "      <th>1</th>\n",
       "      <td>Alstahaug</td>\n",
       "      <td>Beauty and wellbeing</td>\n",
       "      <td>3</td>\n",
       "    </tr>\n",
       "    <tr>\n",
       "      <th>2</th>\n",
       "      <td>Alstahaug</td>\n",
       "      <td>Clothing stores</td>\n",
       "      <td>3</td>\n",
       "    </tr>\n",
       "    <tr>\n",
       "      <th>3</th>\n",
       "      <td>Alstahaug</td>\n",
       "      <td>Food and drinks</td>\n",
       "      <td>5</td>\n",
       "    </tr>\n",
       "    <tr>\n",
       "      <th>4</th>\n",
       "      <td>Alstahaug</td>\n",
       "      <td>Gyms</td>\n",
       "      <td>2</td>\n",
       "    </tr>\n",
       "    <tr>\n",
       "      <th>...</th>\n",
       "      <td>...</td>\n",
       "      <td>...</td>\n",
       "      <td>...</td>\n",
       "    </tr>\n",
       "    <tr>\n",
       "      <th>3104</th>\n",
       "      <td>Øystre Slidre</td>\n",
       "      <td>Gyms</td>\n",
       "      <td>1</td>\n",
       "    </tr>\n",
       "    <tr>\n",
       "      <th>3105</th>\n",
       "      <td>Øystre Slidre</td>\n",
       "      <td>Other Retail</td>\n",
       "      <td>1</td>\n",
       "    </tr>\n",
       "    <tr>\n",
       "      <th>3106</th>\n",
       "      <td>Øystre Slidre</td>\n",
       "      <td>Pubs and bars</td>\n",
       "      <td>3</td>\n",
       "    </tr>\n",
       "    <tr>\n",
       "      <th>3107</th>\n",
       "      <td>Øystre Slidre</td>\n",
       "      <td>Restaurant</td>\n",
       "      <td>5</td>\n",
       "    </tr>\n",
       "    <tr>\n",
       "      <th>3108</th>\n",
       "      <td>Øystre Slidre</td>\n",
       "      <td>Sports and leisure</td>\n",
       "      <td>3</td>\n",
       "    </tr>\n",
       "  </tbody>\n",
       "</table>\n",
       "<p>3109 rows × 3 columns</p>\n",
       "</div>"
      ],
      "text/plain": [
       "     municipality_name              lv2_desc  count\n",
       "0              Agdenes       Food and drinks      1\n",
       "1            Alstahaug  Beauty and wellbeing      3\n",
       "2            Alstahaug       Clothing stores      3\n",
       "3            Alstahaug       Food and drinks      5\n",
       "4            Alstahaug                  Gyms      2\n",
       "...                ...                   ...    ...\n",
       "3104     Øystre Slidre                  Gyms      1\n",
       "3105     Øystre Slidre          Other Retail      1\n",
       "3106     Øystre Slidre         Pubs and bars      3\n",
       "3107     Øystre Slidre            Restaurant      5\n",
       "3108     Øystre Slidre    Sports and leisure      3\n",
       "\n",
       "[3109 rows x 3 columns]"
      ]
     },
     "execution_count": 6,
     "metadata": {},
     "output_type": "execute_result"
    }
   ],
   "source": [
    "store_count(stores_train_df.merge(plaace_df, on=\"plaace_hierarchy_id\", how=\"left\").merge(grunnkrets_df, on=\"grunnkrets_id\", how=\"left\"), ['municipality_name', 'lv2_desc'], \"count\")\n",
    "# population_count_grouped_by_geo_group(stores_train_df, age_dist, grunnkrets_df, geo_groups)"
   ]
  },
  {
   "cell_type": "code",
   "execution_count": null,
   "metadata": {},
   "outputs": [],
   "source": [
    "def new_kmeans(stores_train_merged, stores_test_merged, groups):\n",
    "    train_list = []\n",
    "    test_list = []\n",
    "    for group in groups:\n",
    "        _stores_train_merged = stores_train_merged[stores_train_merged['lv2_desc'] == group]\n",
    "        _stores_test_merged = stores_test_merged[stores_test_merged['lv2_desc'] == group]\n",
    "        kmeans = KMeans(n_clusters=1, init='k-means++')\n",
    "        kmeans.fit(_stores_train_merged[['lat', 'lon']], sample_weight=_stores_train_merged['revenue'])\n",
    "        _stores_train_merged[f'{group}_cluster_label'] = kmeans.predict(_stores_train_merged[['lat', 'lon']])\n",
    "        _stores_test_merged[f'{group}_cluster_label'] = kmeans.predict(_stores_test_merged[['lat', 'lon']])\n",
    "        \n",
    "        train_list.append(_stores_train_merged[['store_id', f'{group}_cluster_label']])\n",
    "        test_list.append(_stores_test_merged[['store_id', f'{group}_cluster_label']])\n",
    "    \n",
    "    return pd.concat(train_list), pd.concat(test_list)\n",
    "    \n"
   ]
  },
  {
   "cell_type": "code",
   "execution_count": null,
   "metadata": {},
   "outputs": [],
   "source": [
    "groups = plaace_df.lv2_desc.unique()\n",
    "\n",
    "stores_train_merged = stores_train_df.merge(plaace_df, on=\"plaace_hierarchy_id\", how=\"inner\")\n",
    "stores_test_merged = stores_test_df.merge(plaace_df, on=\"plaace_hierarchy_id\", how=\"inner\")\n",
    "new_kmeans(stores_train_merged, stores_test_merged, groups)"
   ]
  },
  {
   "cell_type": "code",
   "execution_count": null,
   "metadata": {},
   "outputs": [],
   "source": [
    "stores_train_df"
   ]
  }
 ],
 "metadata": {
  "kernelspec": {
   "display_name": "Python 3.10.4 ('sklearn-env')",
   "language": "python",
   "name": "python3"
  },
  "language_info": {
   "codemirror_mode": {
    "name": "ipython",
    "version": 3
   },
   "file_extension": ".py",
   "mimetype": "text/x-python",
   "name": "python",
   "nbconvert_exporter": "python",
   "pygments_lexer": "ipython3",
   "version": "3.10.4"
  },
  "orig_nbformat": 4,
  "vscode": {
   "interpreter": {
    "hash": "0b486652d2e6c5ac00f1af9aaa5d14fac25fa6ee0068e5fd7a5ee238732fb741"
   }
  }
 },
 "nbformat": 4,
 "nbformat_minor": 2
}
