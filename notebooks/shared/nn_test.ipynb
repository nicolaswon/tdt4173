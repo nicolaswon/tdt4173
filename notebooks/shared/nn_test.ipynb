{
 "cells": [
  {
   "cell_type": "code",
   "execution_count": 1,
   "metadata": {},
   "outputs": [],
   "source": [
    "import pandas as pd"
   ]
  },
  {
   "cell_type": "code",
   "execution_count": 6,
   "metadata": {},
   "outputs": [],
   "source": [
    "drop_cols = ['remainder__store_name',\n",
    " 'remainder__plaace_hierarchy_id',\n",
    " 'remainder__sales_channel_name_x',\n",
    " 'remainder__grunnkrets_id',\n",
    " 'remainder__address',\n",
    " 'remainder__grunnkrets_name',\n",
    " 'remainder__geometry',\n",
    " 'remainder__sales_channel_name_y',\n",
    " 'remainder__lv1',\n",
    " 'remainder__lv2',\n",
    " 'remainder__lv3',\n",
    " 'remainder__lv4',\n",
    " 'remainder__grunnkrets_name_num_kids',\n",
    " 'remainder__grunnkrets_name_num_kids+',\n",
    " 'remainder__grunnkrets_name_num_youths',\n",
    " 'remainder__grunnkrets_name_num_youthAdult',\n",
    " 'remainder__grunnkrets_name_num_adult',\n",
    " 'remainder__grunnkrets_name_num_adults+',\n",
    " 'remainder__grunnkrets_name_num_pensinors',\n",
    " 'remainder__grunnkrets_name_kids_%',\n",
    " 'remainder__grunnkrets_name_kids+_%',\n",
    " 'remainder__grunnkrets_name_youths_%',\n",
    " 'remainder__grunnkrets_name_youthAdult_%',\n",
    " 'remainder__grunnkrets_name_adult_%',\n",
    " 'remainder__grunnkrets_name_adults+_%',\n",
    " 'remainder__grunnkrets_name_pensinors_%',\n",
    " 'remainder__district_name_num_kids',\n",
    " 'remainder__district_name_num_kids+',\n",
    " 'remainder__district_name_num_youths',\n",
    " 'remainder__district_name_num_youthAdult',\n",
    " 'remainder__district_name_num_adult',\n",
    " 'remainder__district_name_num_adults+',\n",
    " 'remainder__district_name_num_pensinors',\n",
    " 'remainder__district_name_kids_%',\n",
    " 'remainder__district_name_kids+_%',\n",
    " 'remainder__district_name_youths_%',\n",
    " 'remainder__district_name_youthAdult_%',\n",
    " 'remainder__district_name_adult_%',\n",
    " 'remainder__district_name_adults+_%',\n",
    " 'remainder__district_name_pensinors_%',\n",
    " 'remainder__municipality_name_num_kids',\n",
    " 'remainder__municipality_name_num_kids+',\n",
    " 'remainder__municipality_name_num_youths',\n",
    " 'remainder__municipality_name_num_youthAdult',\n",
    " 'remainder__municipality_name_num_adult',\n",
    " 'remainder__municipality_name_num_adults+',\n",
    " 'remainder__municipality_name_num_pensinors',\n",
    " 'remainder__municipality_name_kids_%',\n",
    " 'remainder__municipality_name_kids+_%',\n",
    " 'remainder__municipality_name_youths_%',\n",
    " 'remainder__municipality_name_youthAdult_%',\n",
    " 'remainder__municipality_name_adult_%',\n",
    " 'remainder__municipality_name_adults+_%',\n",
    " 'remainder__municipality_name_pensinors_%',\n",
    " 'remainder__grunnkrets_name_couple_children_0_to_5_years',\n",
    " 'remainder__grunnkrets_name_couple_children_18_or_above',\n",
    " 'remainder__grunnkrets_name_couple_children_6_to_17_years',\n",
    " 'remainder__grunnkrets_name_couple_without_children',\n",
    " 'remainder__grunnkrets_name_single_parent_children_0_to_5_years',\n",
    " 'remainder__grunnkrets_name_single_parent_children_18_or_above',\n",
    " 'remainder__grunnkrets_name_single_parent_children_6_to_17_years',\n",
    " 'remainder__grunnkrets_name_singles',\n",
    " 'remainder__grunnkrets_name_%_dist_of_couple_children_0_to_5_years',\n",
    " 'remainder__grunnkrets_name_%_dist_of_couple_children_18_or_above',\n",
    " 'remainder__grunnkrets_name_%_dist_of_couple_children_6_to_17_years',\n",
    " 'remainder__grunnkrets_name_%_dist_of_couple_without_children',\n",
    " 'remainder__grunnkrets_name_%_dist_of_single_parent_children_0_to_5_years',\n",
    " 'remainder__grunnkrets_name_%_dist_of_single_parent_children_18_or_above',\n",
    " 'remainder__grunnkrets_name_%_dist_of_single_parent_children_6_to_17_years',\n",
    " 'remainder__grunnkrets_name_%_dist_of_singles',\n",
    " 'remainder__district_name_couple_children_0_to_5_years',\n",
    " 'remainder__district_name_couple_children_18_or_above',\n",
    " 'remainder__district_name_couple_children_6_to_17_years',\n",
    " 'remainder__district_name_couple_without_children',\n",
    " 'remainder__district_name_single_parent_children_0_to_5_years',\n",
    " 'remainder__district_name_single_parent_children_18_or_above',\n",
    " 'remainder__district_name_single_parent_children_6_to_17_years',\n",
    " 'remainder__district_name_singles',\n",
    " 'remainder__district_name_%_dist_of_couple_children_0_to_5_years',\n",
    " 'remainder__district_name_%_dist_of_couple_children_18_or_above',\n",
    " 'remainder__district_name_%_dist_of_couple_children_6_to_17_years',\n",
    " 'remainder__district_name_%_dist_of_couple_without_children',\n",
    " 'remainder__district_name_%_dist_of_single_parent_children_0_to_5_years',\n",
    " 'remainder__district_name_%_dist_of_single_parent_children_18_or_above',\n",
    " 'remainder__district_name_%_dist_of_single_parent_children_6_to_17_years',\n",
    " 'remainder__district_name_%_dist_of_singles',\n",
    " 'remainder__municipality_name_couple_children_0_to_5_years',\n",
    " 'remainder__municipality_name_couple_children_18_or_above',\n",
    " 'remainder__municipality_name_couple_children_6_to_17_years',\n",
    " 'remainder__municipality_name_couple_without_children',\n",
    " 'remainder__municipality_name_single_parent_children_0_to_5_years',\n",
    " 'remainder__municipality_name_single_parent_children_18_or_above',\n",
    " 'remainder__municipality_name_single_parent_children_6_to_17_years',\n",
    " 'remainder__municipality_name_singles',\n",
    " 'remainder__municipality_name_%_dist_of_couple_children_0_to_5_years',\n",
    " 'remainder__municipality_name_%_dist_of_couple_children_18_or_above',\n",
    " 'remainder__municipality_name_%_dist_of_couple_children_6_to_17_years',\n",
    " 'remainder__municipality_name_%_dist_of_couple_without_children',\n",
    " 'remainder__municipality_name_%_dist_of_single_parent_children_0_to_5_years',\n",
    " 'remainder__municipality_name_%_dist_of_single_parent_children_18_or_above',\n",
    " 'remainder__municipality_name_%_dist_of_single_parent_children_6_to_17_years',\n",
    " 'remainder__municipality_name_%_dist_of_singles']"
   ]
  },
  {
   "cell_type": "code",
   "execution_count": 8,
   "metadata": {},
   "outputs": [],
   "source": [
    "train_set = pd.read_csv(\"/Users/nwong/Workspace/Projects/tdt4173_project/data/processed/train_set.csv\")\n",
    "test_set = pd.read_csv(\"/Users/nwong/Workspace/Projects/tdt4173_project/data/processed/test_set.csv\")"
   ]
  },
  {
   "cell_type": "code",
   "execution_count": 12,
   "metadata": {},
   "outputs": [],
   "source": [
    "test_train = train_set.copy().drop(drop_cols, axis=1)\n",
    "test_test = test_set.copy().drop(drop_cols, axis=1)"
   ]
  },
  {
   "cell_type": "code",
   "execution_count": 13,
   "metadata": {},
   "outputs": [
    {
     "data": {
      "text/plain": [
       "pipeline-1__is                                       0\n",
       "pipeline-2__is                                       0\n",
       "aggtransformer-1__store_count                      271\n",
       "aggtransformer-2__store_count                     1141\n",
       "aggtransformer-3__store_count                     2653\n",
       "                                                  ... \n",
       "remainder__distance_to_lokalt_knutepunkt             0\n",
       "remainder__distance_to_nasjonalt_knutepunkt          0\n",
       "remainder__distance_to_regionalt_knutepunkt          0\n",
       "remainder__distance_to_annen_viktig_holdeplass       0\n",
       "store_id                                             0\n",
       "Length: 65, dtype: int64"
      ]
     },
     "execution_count": 13,
     "metadata": {},
     "output_type": "execute_result"
    }
   ],
   "source": [
    "test_test.isna().sum().to_csv"
   ]
  },
  {
   "cell_type": "code",
   "execution_count": null,
   "metadata": {},
   "outputs": [],
   "source": []
  }
 ],
 "metadata": {
  "kernelspec": {
   "display_name": "Python 3.10.4 ('sklearn-env')",
   "language": "python",
   "name": "python3"
  },
  "language_info": {
   "codemirror_mode": {
    "name": "ipython",
    "version": 3
   },
   "file_extension": ".py",
   "mimetype": "text/x-python",
   "name": "python",
   "nbconvert_exporter": "python",
   "pygments_lexer": "ipython3",
   "version": "3.10.4"
  },
  "orig_nbformat": 4,
  "vscode": {
   "interpreter": {
    "hash": "0b486652d2e6c5ac00f1af9aaa5d14fac25fa6ee0068e5fd7a5ee238732fb741"
   }
  }
 },
 "nbformat": 4,
 "nbformat_minor": 2
}
