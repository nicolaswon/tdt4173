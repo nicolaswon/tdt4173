{
 "cells": [
  {
   "cell_type": "code",
   "execution_count": 28,
   "metadata": {},
   "outputs": [],
   "source": [
    "import sys\n",
    "import pandas as pd\n",
    "import numpy as np\n",
    "from sklearn.pipeline import make_pipeline\n",
    "from sklearn.preprocessing import PowerTransformer\n",
    "from sklearn.compose import make_column_transformer, make_column_selector\n",
    "from sklearn.cluster import KMeans\n",
    "\n",
    "sys.path.append(\"/Users/nwong/Workspace/Projects/tdt4173_project/src\")\n",
    "\n",
    "from feature_engineering.sklearn_transformers import *\n",
    "from feature_engineering.store_features import *\n",
    "from feature_engineering.bus_stop_features import *\n",
    "from feature_engineering.utils import *\n",
    "import h2o\n",
    "from h2o.automl import H2OAutoML\n",
    "\n",
    "stop_importance_levels = ['Mangler viktighetsnivå',\n",
    "                          'Standard holdeplass',\n",
    "                          'Lokalt knutepunkt',\n",
    "                          'Nasjonalt knutepunkt',\n",
    "                          'Regionalt knutepunkt',\n",
    "                          'Annen viktig holdeplass']\n",
    "store_types = ['lv1_desc', 'lv2_desc', 'lv3_desc', 'lv4_desc']\n",
    "geo_groups = ['grunnkrets_id','t_district','municipality_name']"
   ]
  },
  {
   "cell_type": "code",
   "execution_count": 29,
   "metadata": {},
   "outputs": [
    {
     "name": "stderr",
     "output_type": "stream",
     "text": [
      "/Users/nwong/Workspace/Projects/tdt4173_project/src/feature_engineering/bus_stop_features.py:11: FutureWarning: In a future version of pandas all arguments of StringMethods.split except for the argument 'pat' will be keyword-only.\n",
      "  bus_stops_df[['lon', 'lat']] = bus_stops_df['lng_lat'].str.split(\n"
     ]
    }
   ],
   "source": [
    "stores_train_df = pd.read_csv(\"/Users/nwong/Workspace/Projects/tdt4173_project/data/impuded/stores_train.csv\")\n",
    "stores_test_df = pd.read_csv(\"/Users/nwong/Workspace/Projects/tdt4173_project/data/impuded/stores_test.csv\")\n",
    "stores_extra_df = set_year_2016(pd.read_csv(\"/Users/nwong/Workspace/Projects/tdt4173_project/data/raw/stores_extra.csv\"))\n",
    "\n",
    "income_dist = set_year_2016(pd.read_csv(\"/Users/nwong/Workspace/Projects/tdt4173_project/data/raw/grunnkrets_income_households.csv\"))\n",
    "age_dist = set_year_2016(pd.read_csv(\"/Users/nwong/Workspace/Projects/tdt4173_project/data/raw/grunnkrets_age_distribution.csv\"))\n",
    "household_dist = set_year_2016(pd.read_csv(\"/Users/nwong/Workspace/Projects/tdt4173_project/data/raw/grunnkrets_households_num_persons.csv\"))\n",
    "grunnkrets_df = combine_keys(set_year_2016(pd.read_csv(\"/Users/nwong/Workspace/Projects/tdt4173_project/data/raw/grunnkrets_norway_stripped.csv\")))\n",
    "plaace_df = pd.read_csv(\"/Users/nwong/Workspace/Projects/tdt4173_project/data/raw/plaace_hierarchy.csv\")\n",
    "\n",
    "bus_stops_df = bus_stops_lat_lon(pd.read_csv(\"/Users/nwong/Workspace/Projects/tdt4173_project/data/raw/busstops_norway.csv\"))\n"
   ]
  },
  {
   "cell_type": "code",
   "execution_count": 3,
   "metadata": {},
   "outputs": [],
   "source": [
    "stores_train_merged = encode_levels(stores_train_df.merge(plaace_df, on=\"plaace_hierarchy_id\", how=\"left\"))\n",
    "stores_test_merged = encode_levels(stores_test_df.merge(plaace_df, on=\"plaace_hierarchy_id\", how=\"left\"))\n",
    "stores_extra_merged = encode_levels(stores_extra_df.merge(plaace_df, on=\"plaace_hierarchy_id\", how=\"left\"))"
   ]
  },
  {
   "cell_type": "code",
   "execution_count": 4,
   "metadata": {},
   "outputs": [],
   "source": [
    "compare_train_df = pd.concat([stores_train_merged, stores_extra_merged], ignore_index=True)\n",
    "compare_test_df = pd.concat([stores_test_merged, stores_extra_merged], ignore_index=True)"
   ]
  },
  {
   "cell_type": "code",
   "execution_count": 5,
   "metadata": {},
   "outputs": [],
   "source": [
    "def stores_in_radius_new(stores_merged, compare_df, radius=0.05):\n",
    "    lv_1 = stores_in_radius(stores_merged, compare_df, radius=radius, store_type_group='lv1_desc')\n",
    "    lv_2 = stores_in_radius(stores_merged, compare_df, radius=radius, store_type_group='lv2_desc')\n",
    "    lv_3 = stores_in_radius(stores_merged, compare_df, radius=radius, store_type_group='lv3_desc')\n",
    "    lv_4 = stores_in_radius(stores_merged, compare_df, radius=radius, store_type_group='lv4_desc')\n",
    "    all_count = stores_in_radius(stores_merged, compare_df, radius=radius, store_type_group=None)\n",
    "    \n",
    "    return lv_1.merge(lv_2, on=\"store_id\", how=\"inner\").merge(lv_3, on=\"store_id\", how=\"inner\").merge(lv_4, on=\"store_id\", how=\"inner\").merge(all_count, on=\"store_id\", how=\"inner\")"
   ]
  },
  {
   "cell_type": "code",
   "execution_count": 6,
   "metadata": {},
   "outputs": [],
   "source": [
    "def new_pop_density(stores_df, age_dist, grunnkrets_df, geo_groups):\n",
    "    population_density = population_density_grouped_by_geo_group(stores_df, age_dist, grunnkrets_df, geo_groups)\n",
    "    return population_density.fillna(population_density.mean())"
   ]
  },
  {
   "cell_type": "code",
   "execution_count": 7,
   "metadata": {},
   "outputs": [],
   "source": [
    "\n",
    "def new_age_dist(stores_df, age_df, grunnkrets_df, geo_groups):\n",
    "    _age_dist = age_dist_by_geo_group(stores_train_df, age_dist, grunnkrets_df, geo_groups)\n",
    "    return _age_dist.fillna(_age_dist.mean())"
   ]
  },
  {
   "cell_type": "code",
   "execution_count": 8,
   "metadata": {},
   "outputs": [],
   "source": [
    "cluster_simil = ClusterSimilarity(n_clusters=40, gamma=1., random_state=42, sample_weight=stores_train_merged[['revenue']])\n",
    "similarities = cluster_simil.fit(stores_train_merged[[\"lat\", \"lon\"]])\n",
    "\n",
    "def new_clustering(cluster_simil, stores_df):\n",
    "    return pd.DataFrame(cluster_simil.transform(stores_df[['lat', 'lon']]), columns=cluster_simil.get_feature_names_out(), index=stores_df.store_id).reset_index()"
   ]
  },
  {
   "cell_type": "code",
   "execution_count": 9,
   "metadata": {},
   "outputs": [],
   "source": [
    "# kmeans = KMeans(n_clusters=1200, init='k-means++')\n",
    "# kmeans.fit(stores_train_merged[['lat', 'lon']], sample_weight=stores_train_merged['revenue'])\n",
    "\n",
    "# def new_kmeans_weighted(dataframe):\n",
    "#     dataframe['cluster_label'] = kmeans.predict(dataframe[['lat', 'lon']])\n",
    "#     dataframe['cluster_label_str'] = dataframe['cluster_label'].astype(str) + '_cluster'\n",
    "#     dataframe.drop('cluster_label', axis=1, inplace=True)\n"
   ]
  },
  {
   "cell_type": "code",
   "execution_count": 10,
   "metadata": {},
   "outputs": [],
   "source": [
    "# new_kmeans_weighted(stores_train_df)\n",
    "# new_kmeans_weighted(stores_test_df)"
   ]
  },
  {
   "cell_type": "code",
   "execution_count": 11,
   "metadata": {},
   "outputs": [],
   "source": [
    "def distance_to_closest_group(stores_df, compare_df, group):\n",
    "    \"\"\"\n",
    "        Mall or chain\n",
    "    \"\"\"\n",
    "    mat = cdist(\n",
    "        stores_df[['lat', 'lon']],\n",
    "        compare_df[compare_df[group].notna()][['lat', 'lon']], metric=\"euclidean\"\n",
    "    )\n",
    "    \n",
    "    new_df = pd.DataFrame(\n",
    "        mat, index=stores_df['store_id'], columns=compare_df[compare_df[group].notna()]['store_id']\n",
    "    )\n",
    "    \n",
    "    new_df = new_df[new_df > 0]\n",
    "    \n",
    "    stores = new_df.index\n",
    "    # closest = new_df.idxmin(axis=1)\n",
    "    distance = new_df.min(axis=1)\n",
    "    \n",
    "    return pd.DataFrame({'store_id': stores.values, f'distance_closest_{group}': distance.values})"
   ]
  },
  {
   "cell_type": "code",
   "execution_count": 12,
   "metadata": {},
   "outputs": [
    {
     "name": "stderr",
     "output_type": "stream",
     "text": [
      "/var/folders/z1/l03w8mpn5xz3mghrk0j2w5gr0000gn/T/ipykernel_33098/272456682.py:3: FutureWarning: The default value of numeric_only in DataFrame.mean is deprecated. In a future version, it will default to False. In addition, specifying 'numeric_only=None' is deprecated. Select only valid columns or specify the value of numeric_only to silence this warning.\n",
      "  return population_density.fillna(population_density.mean())\n",
      "/var/folders/z1/l03w8mpn5xz3mghrk0j2w5gr0000gn/T/ipykernel_33098/1837615021.py:3: FutureWarning: The default value of numeric_only in DataFrame.mean is deprecated. In a future version, it will default to False. In addition, specifying 'numeric_only=None' is deprecated. Select only valid columns or specify the value of numeric_only to silence this warning.\n",
      "  return _age_dist.fillna(_age_dist.mean())\n",
      "/var/folders/z1/l03w8mpn5xz3mghrk0j2w5gr0000gn/T/ipykernel_33098/272456682.py:3: FutureWarning: The default value of numeric_only in DataFrame.mean is deprecated. In a future version, it will default to False. In addition, specifying 'numeric_only=None' is deprecated. Select only valid columns or specify the value of numeric_only to silence this warning.\n",
      "  return population_density.fillna(population_density.mean())\n",
      "/var/folders/z1/l03w8mpn5xz3mghrk0j2w5gr0000gn/T/ipykernel_33098/1837615021.py:3: FutureWarning: The default value of numeric_only in DataFrame.mean is deprecated. In a future version, it will default to False. In addition, specifying 'numeric_only=None' is deprecated. Select only valid columns or specify the value of numeric_only to silence this warning.\n",
      "  return _age_dist.fillna(_age_dist.mean())\n"
     ]
    }
   ],
   "source": [
    "merged_stores_train = stores_train_merged \\\n",
    "    # .merge(grunnkrets_df, on=\"grunnkrets_id\", how=\"left\") \\\n",
    "    .merge(income_dist, on=\"grunnkrets_id\", how=\"left\") \\\n",
    "    .merge(store_closest_by_store_groups(stores_train_merged, compare_train_df, store_types), on=\"store_id\", how=\"left\") \\\n",
    "    # .merge(stores_in_radius_new(stores_train_merged, compare_train_df), on=\"store_id\", how=\"left\") \\\n",
    "    .merge(new_pop_density(stores_train_df, age_dist, grunnkrets_df, geo_groups), on=\"store_id\", how=\"left\") \\\n",
    "    # .merge(average_household_income_by_geo_groups(stores_train_df, geo_groups, income_dist, household_dist, grunnkrets_df)) \\\n",
    "    .merge(bus_stops_distance_by_importance(stores_train_df, bus_stops_df, stop_importance_levels).reset_index(level=0), on=\"store_id\", how=\"left\") \\\n",
    "    # .merge(new_age_dist(stores_train_df, age_dist, grunnkrets_df, geo_groups), on=\"store_id\", how=\"left\") \\\n",
    "    # .merge(distance_to_closest_group(stores_train_merged, compare_train_df, \"mall_name\"), on=\"store_id\", how=\"left\") \\\n",
    "    # .merge(distance_to_closest_group(stores_train_merged, compare_train_df, \"chain_name\"), on=\"store_id\", how=\"left\") \n",
    "    # .merge(new_clustering(cluster_simil, stores_train_df), on=\"store_id\", how=\"left\") \\\n",
    "        \n",
    "merged_stores_test = stores_test_merged \\\n",
    "    .merge(grunnkrets_df, on=\"grunnkrets_id\", how=\"left\") \\\n",
    "    .merge(income_dist, on=\"grunnkrets_id\", how=\"left\") \\\n",
    "    .merge(store_closest_by_store_groups(stores_test_merged, compare_test_df, store_types), on=\"store_id\", how=\"left\") \\\n",
    "    .merge(stores_in_radius_new(stores_test_merged, compare_test_df), on=\"store_id\", how=\"left\") \\\n",
    "    .merge(new_pop_density(stores_test_df, age_dist, grunnkrets_df, geo_groups), on=\"store_id\", how=\"left\") \\\n",
    "    .merge(average_household_income_by_geo_groups(stores_test_df, geo_groups, income_dist, household_dist, grunnkrets_df)) \\\n",
    "    .merge(bus_stops_distance_by_importance(stores_test_df, bus_stops_df, stop_importance_levels).reset_index(level=0), on=\"store_id\", how=\"left\") \\\n",
    "    .merge(new_age_dist(stores_test_df, age_dist, grunnkrets_df, geo_groups), on=\"store_id\", how=\"left\") \\\n",
    "    .merge(distance_to_closest_group(stores_test_merged, compare_test_df, \"mall_name\"), on=\"store_id\", how=\"left\") \\\n",
    "    .merge(distance_to_closest_group(stores_test_merged, compare_test_df, \"chain_name\"), on=\"store_id\", how=\"left\") \n",
    "    # .merge(new_clustering(cluster_simil, stores_test_df), on=\"store_id\", how=\"left\") \\"
   ]
  },
  {
   "cell_type": "code",
   "execution_count": 13,
   "metadata": {},
   "outputs": [],
   "source": [
    "target_labels = merged_stores_train[['store_id', 'revenue']].copy()\n",
    "merged_stores_train = merged_stores_train.copy().drop('revenue', axis=1)"
   ]
  },
  {
   "cell_type": "code",
   "execution_count": 14,
   "metadata": {},
   "outputs": [],
   "source": [
    "# pd.DataFrame(merged_stores_train.columns).to_csv(\"features.csv\")"
   ]
  },
  {
   "cell_type": "code",
   "execution_count": 15,
   "metadata": {},
   "outputs": [],
   "source": [
    "merged_stores_train['store_name_first'] = merged_stores_train['store_name'].str.split(' ').str[0]\n",
    "merged_stores_train['store_name_last'] = merged_stores_train['store_name'].str.split(' ').str[-1]\n",
    "merged_stores_train['address_first'] = merged_stores_train['address'].str.extract('(\\D+)\\s+(\\d+)\\s?(.*)')[0] + \"_\" + merged_stores_train['municipality_name']\n",
    "\n",
    "merged_stores_test['store_name_first'] = merged_stores_test['store_name'].str.split(' ').str[0]\n",
    "merged_stores_test['store_name_last'] = merged_stores_test['store_name'].str.split(' ').str[-1]\n",
    "merged_stores_test['address_first'] = merged_stores_test['address'].str.extract('(\\D+)\\s+(\\d+)\\s?(.*)')[0] + \"_\" + merged_stores_test['municipality_name']"
   ]
  },
  {
   "cell_type": "code",
   "execution_count": 16,
   "metadata": {},
   "outputs": [],
   "source": [
    "merged_stores_train['is_chain'] = merged_stores_train['chain_name'].isna()\n",
    "merged_stores_train['is_mall'] = merged_stores_train['mall_name'].isna()\n",
    "\n",
    "merged_stores_test['is_chain'] = merged_stores_test['chain_name'].isna()\n",
    "merged_stores_test['is_mall'] = merged_stores_test['mall_name'].isna()"
   ]
  },
  {
   "cell_type": "code",
   "execution_count": 17,
   "metadata": {},
   "outputs": [],
   "source": [
    "merged_stores_train['store_type2_chain'] = merged_stores_train['lv2_desc'] + '_' + merged_stores_train['is_chain'].astype(str)\n",
    "merged_stores_train['store_type2_mall'] = merged_stores_train['lv2_desc'] + '_' + merged_stores_train['is_mall'].astype(str)\n",
    "\n",
    "merged_stores_test['store_type2_chain'] = merged_stores_test['lv2_desc'] + '_' + merged_stores_test['is_chain'].astype(str)\n",
    "merged_stores_test['store_type2_mall'] = merged_stores_test['lv2_desc'] + '_' + merged_stores_test['is_mall'].astype(str)"
   ]
  },
  {
   "cell_type": "code",
   "execution_count": 18,
   "metadata": {},
   "outputs": [],
   "source": [
    "merged_stores_train['store_type3_chain'] = merged_stores_train['lv3_desc'] + '_' + merged_stores_train['is_chain'].astype(str)\n",
    "merged_stores_train['store_type3_mall'] = merged_stores_train['lv3_desc'] + '_' + merged_stores_train['is_mall'].astype(str)\n",
    "\n",
    "merged_stores_test['store_type3_chain'] = merged_stores_test['lv3_desc'] + '_' + merged_stores_test['is_chain'].astype(str)\n",
    "merged_stores_test['store_type3_mall'] = merged_stores_test['lv3_desc'] + '_' + merged_stores_test['is_mall'].astype(str)"
   ]
  },
  {
   "cell_type": "code",
   "execution_count": 19,
   "metadata": {},
   "outputs": [],
   "source": [
    "merged_stores_train['store_type_district'] = merged_stores_train['lv2_desc'] + '_' + merged_stores_train['t_district']\n",
    "merged_stores_test['store_type_district'] = merged_stores_test['lv2_desc'] + '_' + merged_stores_test['t_district']"
   ]
  },
  {
   "cell_type": "code",
   "execution_count": 20,
   "metadata": {},
   "outputs": [],
   "source": [
    "bus_col_names = [\n",
    "    'distance_to_mangler_viktighetsnivå',\n",
    "    'distance_to_standard_holdeplass',\n",
    "    'distance_to_lokalt_knutepunkt',\n",
    "    'distance_to_nasjonalt_knutepunkt',\n",
    "    'distance_to_regionalt_knutepunkt',\n",
    "    'distance_to_annen_viktig_holdeplass'\n",
    "]\n",
    "merged_stores_train[\"bus_distance_to_store\"] = merged_stores_train[bus_col_names].min(axis = 1)\n",
    "merged_stores_test[\"bus_distance_to_store\"] = merged_stores_train[bus_col_names].min(axis = 1)"
   ]
  },
  {
   "cell_type": "code",
   "execution_count": 21,
   "metadata": {},
   "outputs": [],
   "source": [
    "# pd.DataFrame(merged_stores_train).to_csv(\"train_set.csv\", index=False)"
   ]
  },
  {
   "cell_type": "code",
   "execution_count": 22,
   "metadata": {},
   "outputs": [],
   "source": [
    "# pd.DataFrame(merged_stores_test).to_csv(\"test_set.csv\", index=False)"
   ]
  },
  {
   "cell_type": "code",
   "execution_count": 23,
   "metadata": {},
   "outputs": [],
   "source": [
    "inc_cols = [\n",
    "    'store_id',\n",
    "    # 'store_name_first',\n",
    "    # 'store_name_last',\n",
    "    \n",
    "    # 'plaace_hierarchy_id',\n",
    "    # 'chain_name',\n",
    "    # 'is_chain',\n",
    "    # 'mall_name',\n",
    "    # 'is_mall',\n",
    "    'store_type2_chain',\n",
    "    'store_type2_mall',\n",
    "    'store_type3_chain',\n",
    "    'store_type3_mall',\n",
    "    'sales_channel_name_x',\n",
    "    # 'store_type_district',\n",
    "    \n",
    "    # 'grunnkrets_id',\n",
    "    'municipality_name',\n",
    "    't_district',\n",
    "    # 'address',\n",
    "    'address_first',\n",
    "    \n",
    "    'lv1_desc',\n",
    "    'lv2_desc',\n",
    "    'lv3_desc',\n",
    "    'lv4_desc',\n",
    "    # 'lv4',\n",
    "]\n",
    "\n",
    "yeo_cols = [\n",
    "    'all_households',\n",
    "    # 'singles',\n",
    "    # 'couple_without_children',\n",
    "    # 'couple_with_children',\n",
    "    # 'other_households',\n",
    "    # 'single_parent_with_children',\n",
    "    \n",
    "    'avg_household_income_t_district',\n",
    "    'avg_household_income_municipality_name',\n",
    "    # 't_district_density',\n",
    "    'municipality_name_density',\n",
    "    \n",
    "    'all_stores_in_radius',\n",
    "    # 'lv1_desc_in_radius',\n",
    "    'lv2_desc_in_radius',\n",
    "    'lv3_desc_in_radius',\n",
    "    'lv4_desc_in_radius',\n",
    "    \n",
    "    # 't_district_kids_%',\n",
    "    # 't_district_kids+_%',\n",
    "    # 't_district_youths_%',\n",
    "    # 't_district_youthAdult_%',\n",
    "    # 't_district_adult_%',\n",
    "    # 't_district_adults+_%',\n",
    "    # 't_district_pensinors_%',\n",
    "]\n",
    "\n",
    "box_cols = [\n",
    "    # 'area_km2',\n",
    "    # 'distance_to_lv1_desc',\n",
    "    'distance_to_lv2_desc',\n",
    "    'distance_to_lv3_desc',\n",
    "    'distance_to_lv4_desc',\n",
    "    \n",
    "    # 'grunnkrets_id_density',\n",
    "    't_district_density',\n",
    "    'municipality_name_density',\n",
    "    \n",
    "    'distance_to_lokalt_knutepunkt',\n",
    "    'distance_to_regionalt_knutepunkt',\n",
    "    'distance_to_annen_viktig_holdeplass',\n",
    "    'distance_to_nasjonalt_knutepunkt',\n",
    "    # 'distance_to_mangler_viktighetsnivå',\n",
    "    # 'distance_to_standard_holdeplass',\n",
    "    \n",
    "    'distance_closest_mall_name',\n",
    "    'distance_closest_chain_name',\n",
    "    # 'bus_distance_to_store',\n",
    "]\n",
    "\n",
    "# Try with inc_cols\n",
    "# yeo_cols += [f'Cluster {i} similarity' for i in range(500)]\n",
    "\n",
    "_merged_stores_train = merged_stores_train.filter(inc_cols+yeo_cols+box_cols)\n",
    "_merged_stores_test = merged_stores_test.filter(inc_cols+yeo_cols+box_cols)"
   ]
  },
  {
   "cell_type": "code",
   "execution_count": 24,
   "metadata": {},
   "outputs": [],
   "source": [
    "# _merged_stores_train['grunnkrets_id'] = _merged_stores_train['grunnkrets_id'].astype('str')"
   ]
  },
  {
   "cell_type": "code",
   "execution_count": 25,
   "metadata": {},
   "outputs": [],
   "source": [
    "# _merged_stores_test['grunnkrets_id'] = _merged_stores_test['grunnkrets_id'].astype('str')"
   ]
  },
  {
   "cell_type": "code",
   "execution_count": 26,
   "metadata": {},
   "outputs": [],
   "source": [
    "yeo_pipeline = make_pipeline(\n",
    "    SimpleImputer(strategy=\"median\"),\n",
    "    PowerTransformer()\n",
    ")\n",
    "box_pipeline = make_pipeline(\n",
    "    SimpleImputer(strategy=\"median\"),\n",
    "    PowerTransformer(method=\"box-cox\")\n",
    ")\n",
    "\n",
    "preprocessing = make_column_transformer(\n",
    "        (yeo_pipeline, yeo_cols),\n",
    "        (box_pipeline, box_cols),\n",
    "        remainder=\"passthrough\"\n",
    "    )\n",
    "\n",
    "def new_transformer(merged_stores_df, preprocessing):\n",
    "    return pd.DataFrame(preprocessing.fit_transform(merged_stores_df), columns=preprocessing.get_feature_names_out(), index=merged_stores_df.index)"
   ]
  },
  {
   "cell_type": "code",
   "execution_count": 27,
   "metadata": {},
   "outputs": [
    {
     "ename": "ValueError",
     "evalue": "Selected columns, ['all_households', 'avg_household_income_t_district', 'avg_household_income_municipality_name', 'municipality_name_density', 'all_stores_in_radius', 'lv2_desc_in_radius', 'lv3_desc_in_radius', 'lv4_desc_in_radius'], are not unique in dataframe",
     "output_type": "error",
     "traceback": [
      "\u001b[0;31m---------------------------------------------------------------------------\u001b[0m",
      "\u001b[0;31mValueError\u001b[0m                                Traceback (most recent call last)",
      "\u001b[1;32m/Users/nwong/Workspace/Projects/tdt4173_project/notebooks/shared/ml.ipynb Cell 27\u001b[0m in \u001b[0;36m<cell line: 3>\u001b[0;34m()\u001b[0m\n\u001b[1;32m      <a href='vscode-notebook-cell:/Users/nwong/Workspace/Projects/tdt4173_project/notebooks/shared/ml.ipynb#X34sZmlsZQ%3D%3D?line=0'>1</a>\u001b[0m \u001b[39m# preprocessing.fit(_merged_stores_train)\u001b[39;00m\n\u001b[0;32m----> <a href='vscode-notebook-cell:/Users/nwong/Workspace/Projects/tdt4173_project/notebooks/shared/ml.ipynb#X34sZmlsZQ%3D%3D?line=2'>3</a>\u001b[0m _merged_stores_train \u001b[39m=\u001b[39m new_transformer(_merged_stores_train, preprocessing)\n\u001b[1;32m      <a href='vscode-notebook-cell:/Users/nwong/Workspace/Projects/tdt4173_project/notebooks/shared/ml.ipynb#X34sZmlsZQ%3D%3D?line=3'>4</a>\u001b[0m _merged_stores_test \u001b[39m=\u001b[39m new_transformer(_merged_stores_test, preprocessing)\n",
      "\u001b[1;32m/Users/nwong/Workspace/Projects/tdt4173_project/notebooks/shared/ml.ipynb Cell 27\u001b[0m in \u001b[0;36mnew_transformer\u001b[0;34m(merged_stores_df, preprocessing)\u001b[0m\n\u001b[1;32m     <a href='vscode-notebook-cell:/Users/nwong/Workspace/Projects/tdt4173_project/notebooks/shared/ml.ipynb#X34sZmlsZQ%3D%3D?line=15'>16</a>\u001b[0m \u001b[39mdef\u001b[39;00m \u001b[39mnew_transformer\u001b[39m(merged_stores_df, preprocessing):\n\u001b[0;32m---> <a href='vscode-notebook-cell:/Users/nwong/Workspace/Projects/tdt4173_project/notebooks/shared/ml.ipynb#X34sZmlsZQ%3D%3D?line=16'>17</a>\u001b[0m     \u001b[39mreturn\u001b[39;00m pd\u001b[39m.\u001b[39mDataFrame(preprocessing\u001b[39m.\u001b[39;49mfit_transform(merged_stores_df), columns\u001b[39m=\u001b[39mpreprocessing\u001b[39m.\u001b[39mget_feature_names_out(), index\u001b[39m=\u001b[39mmerged_stores_df\u001b[39m.\u001b[39mindex)\n",
      "File \u001b[0;32m~/opt/anaconda3/envs/sklearn-env/lib/python3.10/site-packages/sklearn/compose/_column_transformer.py:670\u001b[0m, in \u001b[0;36mColumnTransformer.fit_transform\u001b[0;34m(self, X, y)\u001b[0m\n\u001b[1;32m    668\u001b[0m \u001b[39mself\u001b[39m\u001b[39m.\u001b[39m_check_n_features(X, reset\u001b[39m=\u001b[39m\u001b[39mTrue\u001b[39;00m)\n\u001b[1;32m    669\u001b[0m \u001b[39mself\u001b[39m\u001b[39m.\u001b[39m_validate_transformers()\n\u001b[0;32m--> 670\u001b[0m \u001b[39mself\u001b[39;49m\u001b[39m.\u001b[39;49m_validate_column_callables(X)\n\u001b[1;32m    671\u001b[0m \u001b[39mself\u001b[39m\u001b[39m.\u001b[39m_validate_remainder(X)\n\u001b[1;32m    673\u001b[0m result \u001b[39m=\u001b[39m \u001b[39mself\u001b[39m\u001b[39m.\u001b[39m_fit_transform(X, y, _fit_transform_one)\n",
      "File \u001b[0;32m~/opt/anaconda3/envs/sklearn-env/lib/python3.10/site-packages/sklearn/compose/_column_transformer.py:357\u001b[0m, in \u001b[0;36mColumnTransformer._validate_column_callables\u001b[0;34m(self, X)\u001b[0m\n\u001b[1;32m    355\u001b[0m         columns \u001b[39m=\u001b[39m columns(X)\n\u001b[1;32m    356\u001b[0m     all_columns\u001b[39m.\u001b[39mappend(columns)\n\u001b[0;32m--> 357\u001b[0m     transformer_to_input_indices[name] \u001b[39m=\u001b[39m _get_column_indices(X, columns)\n\u001b[1;32m    359\u001b[0m \u001b[39mself\u001b[39m\u001b[39m.\u001b[39m_columns \u001b[39m=\u001b[39m all_columns\n\u001b[1;32m    360\u001b[0m \u001b[39mself\u001b[39m\u001b[39m.\u001b[39m_transformer_to_input_indices \u001b[39m=\u001b[39m transformer_to_input_indices\n",
      "File \u001b[0;32m~/opt/anaconda3/envs/sklearn-env/lib/python3.10/site-packages/sklearn/utils/__init__.py:418\u001b[0m, in \u001b[0;36m_get_column_indices\u001b[0;34m(X, key)\u001b[0m\n\u001b[1;32m    416\u001b[0m         col_idx \u001b[39m=\u001b[39m all_columns\u001b[39m.\u001b[39mget_loc(col)\n\u001b[1;32m    417\u001b[0m         \u001b[39mif\u001b[39;00m \u001b[39mnot\u001b[39;00m \u001b[39misinstance\u001b[39m(col_idx, numbers\u001b[39m.\u001b[39mIntegral):\n\u001b[0;32m--> 418\u001b[0m             \u001b[39mraise\u001b[39;00m \u001b[39mValueError\u001b[39;00m(\n\u001b[1;32m    419\u001b[0m                 \u001b[39mf\u001b[39m\u001b[39m\"\u001b[39m\u001b[39mSelected columns, \u001b[39m\u001b[39m{\u001b[39;00mcolumns\u001b[39m}\u001b[39;00m\u001b[39m, are not unique in dataframe\u001b[39m\u001b[39m\"\u001b[39m\n\u001b[1;32m    420\u001b[0m             )\n\u001b[1;32m    421\u001b[0m         column_indices\u001b[39m.\u001b[39mappend(col_idx)\n\u001b[1;32m    423\u001b[0m \u001b[39mexcept\u001b[39;00m \u001b[39mKeyError\u001b[39;00m \u001b[39mas\u001b[39;00m e:\n",
      "\u001b[0;31mValueError\u001b[0m: Selected columns, ['all_households', 'avg_household_income_t_district', 'avg_household_income_municipality_name', 'municipality_name_density', 'all_stores_in_radius', 'lv2_desc_in_radius', 'lv3_desc_in_radius', 'lv4_desc_in_radius'], are not unique in dataframe"
     ]
    }
   ],
   "source": [
    "# preprocessing.fit(_merged_stores_train)\n",
    "\n",
    "_merged_stores_train = new_transformer(_merged_stores_train, preprocessing)\n",
    "_merged_stores_test = new_transformer(_merged_stores_test, preprocessing)"
   ]
  },
  {
   "cell_type": "code",
   "execution_count": null,
   "metadata": {},
   "outputs": [],
   "source": [
    "pt = PowerTransformer()\n",
    "rev_transformed = pt.fit_transform(target_labels[[\"revenue\"]])\n",
    "_merged_stores_train[\"revenue\"] = rev_transformed"
   ]
  },
  {
   "cell_type": "code",
   "execution_count": null,
   "metadata": {},
   "outputs": [],
   "source": [
    "_merged_stores_train = _merged_stores_train[(_merged_stores_train.revenue > -1.8888)]"
   ]
  },
  {
   "cell_type": "code",
   "execution_count": null,
   "metadata": {},
   "outputs": [],
   "source": [
    "# _merged_stores_train[\"z_score\"] = (_merged_stores_train.revenue - _merged_stores_train.revenue.mean()) / _merged_stores_train.revenue.std()\n",
    "# train_no_outliers = (_merged_stores_train[(_merged_stores_train.z_score > -2)])\n",
    "\n",
    "# _merged_stores_train.drop(['z_score'], axis=1, inplace=True)"
   ]
  },
  {
   "cell_type": "code",
   "execution_count": null,
   "metadata": {},
   "outputs": [],
   "source": [
    "_merged_stores_train"
   ]
  },
  {
   "cell_type": "code",
   "execution_count": null,
   "metadata": {},
   "outputs": [],
   "source": [
    "# Start the H2O cluster (locally)\n",
    "h2o.init()\n",
    "\n",
    "# Import a sample binary outcome train/test set into H2O\n",
    "train = h2o.H2OFrame(_merged_stores_train)\n",
    "test = h2o.H2OFrame(_merged_stores_test)\n",
    "\n",
    "cat_vars = inc_cols\n",
    "\n",
    "cat_vars = [f'remainder__{i}' for i in cat_vars if i != 'store_id']\n",
    "\n",
    "for cat in cat_vars:\n",
    "    train[cat] = train[cat].asfactor()\n",
    "    test[cat] = test[cat].asfactor()\n",
    "\n",
    "\n",
    "#test = h2o.H2OFrame(pd.concat([test_set, stores_test_enriched[['store_id']]], axis=1).drop(drop_cols, axis=1))"
   ]
  },
  {
   "cell_type": "code",
   "execution_count": null,
   "metadata": {},
   "outputs": [],
   "source": [
    "# Identify predictors and response\n",
    "x = train.columns\n",
    "y = \"revenue\"\n",
    "x.remove(y)\n",
    "\n",
    "# Run AutoML for 20 base models\n",
    "aml = H2OAutoML(max_models=20, seed=1, exclude_algos=['deeplearning'])\n",
    "aml.train(x=x, y=y, training_frame=train)"
   ]
  },
  {
   "cell_type": "code",
   "execution_count": null,
   "metadata": {},
   "outputs": [],
   "source": [
    "lb = aml.leaderboard\n",
    "lb.head(rows=lb.nrows)  # Print all rows instead of default (10 rows)"
   ]
  },
  {
   "cell_type": "code",
   "execution_count": null,
   "metadata": {},
   "outputs": [],
   "source": [
    "# The leader model is stored here\n",
    "aml.leader"
   ]
  },
  {
   "cell_type": "code",
   "execution_count": null,
   "metadata": {},
   "outputs": [],
   "source": [
    "m = h2o.get_model(lb[3,\"model_id\"])\n",
    "m.varimp(use_pandas=True)"
   ]
  },
  {
   "cell_type": "code",
   "execution_count": null,
   "metadata": {},
   "outputs": [],
   "source": [
    "preds_avg = aml.predict(test)\n",
    "preds_best = aml.leader.predict(test)"
   ]
  },
  {
   "cell_type": "code",
   "execution_count": null,
   "metadata": {},
   "outputs": [],
   "source": [
    "df = test.cbind(preds_best)\n",
    "df = df.as_data_frame(use_pandas=True)\n",
    "result = df.loc[:,(\"remainder__store_id\", 'predict')]\n",
    "submission = result.rename(columns = {\"remainder__store_id\": \"id\",  \"predict\" : \"predicted\"})\n",
    "submission['predicted'] = pt.inverse_transform(submission[['predicted']])\n",
    "submission.to_csv(\"StackedEnsembleBestOfFamily21.csv\", index = False)\n",
    "\n",
    "submission"
   ]
  },
  {
   "cell_type": "code",
   "execution_count": null,
   "metadata": {},
   "outputs": [],
   "source": []
  }
 ],
 "metadata": {
  "kernelspec": {
   "display_name": "Python 3.10.4 ('sklearn-env')",
   "language": "python",
   "name": "python3"
  },
  "language_info": {
   "codemirror_mode": {
    "name": "ipython",
    "version": 3
   },
   "file_extension": ".py",
   "mimetype": "text/x-python",
   "name": "python",
   "nbconvert_exporter": "python",
   "pygments_lexer": "ipython3",
   "version": "3.10.4"
  },
  "orig_nbformat": 4,
  "vscode": {
   "interpreter": {
    "hash": "0b486652d2e6c5ac00f1af9aaa5d14fac25fa6ee0068e5fd7a5ee238732fb741"
   }
  }
 },
 "nbformat": 4,
 "nbformat_minor": 2
}
