{
 "cells": [
  {
   "cell_type": "code",
   "execution_count": 6,
   "metadata": {},
   "outputs": [],
   "source": [
    "\n",
    "import sys\n",
    "import pandas as pd\n",
    "import numpy as np\n",
    "from sklearn.compose import ColumnTransformer, make_column_transformer, make_column_selector\n",
    "from sklearn.pipeline import Pipeline\n",
    "from sklearn.ensemble import RandomForestClassifier\n",
    "\n",
    "sys.path.append(\"/Users/nwong/Workspace/Projects/tdt4173_project/src\")\n",
    "\n",
    "from feature_engineering.sklearn_transformers import *\n",
    "from feature_engineering.store_features import *\n",
    "from feature_engineering.utils import *"
   ]
  },
  {
   "cell_type": "code",
   "execution_count": 7,
   "metadata": {},
   "outputs": [],
   "source": [
    "# Import datasets\n",
    "stores_train_df = pd.read_csv(\"/Users/nwong/Workspace/Projects/tdt4173_project/data/raw/stores_train.csv\")\n",
    "stores_test_df = pd.read_csv(\"/Users/nwong/Workspace/Projects/tdt4173_project/data/raw/stores_test.csv\")\n",
    "stores_extra_df = pd.read_csv(\"/Users/nwong/Workspace/Projects/tdt4173_project/data/raw/stores_extra.csv\")\n",
    "bus_stops_df = pd.read_csv(\"/Users/nwong/Workspace/Projects/tdt4173_project/data/raw/busstops_norway.csv\")\n",
    "\n",
    "# Grouping mechanism \n",
    "geo_groups = ['t_grunnkrets','t_district','municipality_name']\n",
    "store_types = ['lv1_desc', 'lv2_desc', 'lv3_desc', 'lv4_desc']\n",
    "stop_importance_levels = ['Mangler viktighetsnivå',\n",
    "                          'Standard holdeplass',\n",
    "                          'Lokalt knutepunkt',\n",
    "                          'Nasjonalt knutepunkt',\n",
    "                          'Regionalt knutepunkt',\n",
    "                          'Annen viktig holdeplass']"
   ]
  },
  {
   "cell_type": "code",
   "execution_count": 8,
   "metadata": {},
   "outputs": [
    {
     "name": "stderr",
     "output_type": "stream",
     "text": [
      "/Users/nwong/Workspace/Projects/tdt4173_project/src/feature_engineering/bus_stop_features.py:11: FutureWarning: In a future version of pandas all arguments of StringMethods.split except for the argument 'pat' will be keyword-only.\n",
      "  bus_stops_df[['lon', 'lat']] = bus_stops_df['lng_lat'].str.split(\n",
      "/Users/nwong/Workspace/Projects/tdt4173_project/src/feature_engineering/bus_stop_features.py:11: FutureWarning: In a future version of pandas all arguments of StringMethods.split except for the argument 'pat' will be keyword-only.\n",
      "  bus_stops_df[['lon', 'lat']] = bus_stops_df['lng_lat'].str.split(\n"
     ]
    }
   ],
   "source": [
    "raw_path = \"/Users/nwong/Workspace/Projects/tdt4173_project/data/raw/\" # Folder with the raw data files\n",
    "\n",
    "stores_extra_merged = enrich_keys(stores_extra_df, raw_path=raw_path)\n",
    "stores_train_enriched = data_enricher(stores_train_df, raw_path=raw_path, geo_groups=geo_groups, importance_levels=stop_importance_levels)\n",
    "stores_test_enriched = data_enricher(stores_test_df, raw_path=raw_path, geo_groups=geo_groups, importance_levels=stop_importance_levels)\n",
    "\n",
    "stores_train_data = stores_train_enriched.drop(\"revenue\", axis=1)\n",
    "stores_train_labels = stores_train_enriched[['store_id', 'revenue']]"
   ]
  },
  {
   "cell_type": "code",
   "execution_count": 4,
   "metadata": {},
   "outputs": [
    {
     "data": {
      "text/plain": [
       "3817"
      ]
     },
     "execution_count": 4,
     "metadata": {},
     "output_type": "execute_result"
    }
   ],
   "source": [
    "stores_train_enriched.grunnkrets_id.nunique()"
   ]
  },
  {
   "cell_type": "code",
   "execution_count": 11,
   "metadata": {},
   "outputs": [
    {
     "data": {
      "text/plain": [
       "3789"
      ]
     },
     "execution_count": 11,
     "metadata": {},
     "output_type": "execute_result"
    }
   ],
   "source": [
    "stores_train_enriched.t_grunnkrets.nunique()"
   ]
  },
  {
   "cell_type": "code",
   "execution_count": null,
   "metadata": {},
   "outputs": [],
   "source": [
    "num_stores_district_lv1 = AggTransformer(\n",
    "    agg_cols=[\"district_name\", \"lv1_desc\"], \n",
    "    agg_name=\"store_count\", \n",
    "    calculations=store_count,\n",
    "    stores_extra=stores_extra_merged\n",
    ")\n",
    "\n",
    "num_stores_district_lv2 = AggTransformer(\n",
    "    agg_cols=[\"district_name\", \"lv2_desc\"], \n",
    "    agg_name=\"store_count\", \n",
    "    calculations=store_count,\n",
    "    stores_extra=stores_extra_merged\n",
    ")\n",
    "\n",
    "num_stores_district_lv3 = AggTransformer(\n",
    "    agg_cols=[\"district_name\", \"lv3_desc\"], \n",
    "    agg_name=\"store_count\", \n",
    "    calculations=store_count,\n",
    "    stores_extra=stores_extra_merged\n",
    ")\n",
    "\n",
    "num_stores_municipality_lv1 = AggTransformer(\n",
    "    agg_cols=[\"municipality_name\", \"lv1_desc\"], \n",
    "    agg_name=\"store_count\", \n",
    "    calculations=store_count,\n",
    "    stores_extra=stores_extra_merged\n",
    ")\n",
    "\n",
    "num_stores_municipality_lv2 = AggTransformer(\n",
    "    agg_cols=[\"municipality_name\", \"lv2_desc\"], \n",
    "    agg_name=\"store_count\", \n",
    "    calculations=store_count,\n",
    "    stores_extra=stores_extra_merged\n",
    ")\n",
    "\n",
    "num_stores_municipality_lv3 = AggTransformer(\n",
    "    agg_cols=[\"municipality_name\", \"lv3_desc\"], \n",
    "    agg_name=\"store_count\", \n",
    "    calculations=store_count,\n",
    "    stores_extra=stores_extra_merged\n",
    ")"
   ]
  },
  {
   "cell_type": "code",
   "execution_count": null,
   "metadata": {},
   "outputs": [],
   "source": [
    "avg_rev_mall = AggTransformer(\n",
    "    agg_cols=[\"mall_name\"], \n",
    "    agg_name=\"avg_revenue\", \n",
    "    calculations=average_revenue, \n",
    "    sample_revenue=stores_train_labels\n",
    ")\n",
    "\n",
    "avg_rev_mall_lv2 = AggTransformer(\n",
    "    agg_cols=[\"mall_name\", \"lv2_desc\"], \n",
    "    agg_name=\"avg_revenue\", \n",
    "    calculations=average_revenue, \n",
    "    sample_revenue=stores_train_labels\n",
    ")\n",
    "\n",
    "avg_rev_chain = AggTransformer(\n",
    "    agg_cols=[\"chain_name\"], \n",
    "    agg_name=\"avg_revenue\", \n",
    "    calculations=average_revenue, \n",
    "    sample_revenue=stores_train_labels\n",
    ")\n",
    "\n",
    "avg_rev_district = AggTransformer(\n",
    "    agg_cols=['district_name'],\n",
    "    agg_name='avg_rev_district',\n",
    "    calculations=average_revenue,\n",
    "    sample_revenue=stores_train_labels\n",
    ")\n",
    "\n",
    "avg_rev_municipality = AggTransformer(\n",
    "    agg_cols=['municipality_name'],\n",
    "    agg_name='avg_rev_district',\n",
    "    calculations=average_revenue,\n",
    "    sample_revenue=stores_train_labels\n",
    ")\n",
    "\n",
    "avg_rev_district_lv3 = AggTransformer(\n",
    "    agg_cols=['district_name', 'lv3_desc'],\n",
    "    agg_name='avg_rev_district',\n",
    "    calculations=average_revenue,\n",
    "    sample_revenue=stores_train_labels\n",
    ")\n",
    "\n",
    "avg_rev_municipality_lv3 = AggTransformer(\n",
    "    agg_cols=['municipality_name', 'lv3_desc'],\n",
    "    agg_name='avg_rev_municipality',\n",
    "    calculations=average_revenue,\n",
    "    sample_revenue=stores_train_labels\n",
    ")\n",
    "\n",
    "avg_rev_lv3 = AggTransformer(\n",
    "    agg_cols=[\"lv3_desc\"], \n",
    "    agg_name=\"avg_rev_lv3\", \n",
    "    calculations=average_revenue,\n",
    "    sample_revenue=stores_train_labels\n",
    ")\n",
    "\n",
    "avg_rev_lv4 = AggTransformer(\n",
    "    agg_cols=[\"lv4_desc\"], \n",
    "    agg_name=\"avg_rev_lv4\", \n",
    "    calculations=average_revenue,\n",
    "    sample_revenue=stores_train_labels\n",
    ")"
   ]
  },
  {
   "cell_type": "code",
   "execution_count": null,
   "metadata": {},
   "outputs": [],
   "source": [
    "# Stores in radius irrespective of store type\n",
    "num_stores_radius = StoresInRadiusTransformer(\n",
    "    radius=0.1)\n",
    "\n",
    "num_stores_radius_extra = StoresInRadiusTransformer(\n",
    "    radius=0.1,\n",
    "    stores_extra=stores_extra_merged)"
   ]
  },
  {
   "cell_type": "code",
   "execution_count": null,
   "metadata": {},
   "outputs": [],
   "source": [
    "cluster_simil = ClusterSimilarity(\n",
    "    n_clusters=20, \n",
    "    gamma=1., \n",
    "    random_state=42, \n",
    "    sample_weight=stores_train_labels)"
   ]
  },
  {
   "cell_type": "code",
   "execution_count": null,
   "metadata": {},
   "outputs": [],
   "source": [
    "closest_stores = ClosestStore(\n",
    "    stores_extra=stores_extra_merged,\n",
    "    store_type_groups=store_types\n",
    ")"
   ]
  },
  {
   "cell_type": "code",
   "execution_count": null,
   "metadata": {},
   "outputs": [],
   "source": [
    "num_pipeline = Pipeline([\n",
    "    (\"impute\", SimpleImputer(strategy=\"median\")),\n",
    "    (\"standardize\", StandardScaler()),\n",
    "])\n",
    "\n",
    "cat_pipeline = make_pipeline(\n",
    "    SimpleImputer(strategy=\"most_frequent\"),\n",
    "    OneHotEncoder(handle_unknown=\"ignore\")\n",
    ")\n",
    "\n",
    "kmeans_pipeline = make_pipeline(\n",
    "    StandardScaler(),\n",
    "    ClusterSimilarity()\n",
    ")"
   ]
  },
  {
   "cell_type": "code",
   "execution_count": null,
   "metadata": {},
   "outputs": [],
   "source": [
    "\n",
    "preprocessing = make_column_transformer(\n",
    "        (is_null_pipeline(), ['mall_name']),\n",
    "        (is_null_pipeline(), ['chain_name']),\n",
    "        (num_stores_district_lv1, ['store_id', 'district_name', 'lv1_desc']),\n",
    "        (num_stores_district_lv3, ['store_id', 'district_name', 'lv3_desc']),\n",
    "        (num_stores_district_lv2, ['store_id', 'district_name', 'lv2_desc']),\n",
    "        (num_stores_municipality_lv1, ['store_id', \"municipality_name\", \"lv1_desc\"]),\n",
    "        (num_stores_municipality_lv2, ['store_id', \"municipality_name\", \"lv2_desc\"]),\n",
    "        (num_stores_municipality_lv3, ['store_id', \"municipality_name\", \"lv3_desc\"]),\n",
    "        (avg_rev_mall, ['store_id', 'mall_name']),\n",
    "        (avg_rev_mall_lv2, ['store_id', 'mall_name', 'lv2_desc']),\n",
    "        (avg_rev_chain, ['store_id', 'chain_name']),\n",
    "        (avg_rev_district, ['store_id', 'district_name']),\n",
    "        (avg_rev_district_lv3, ['store_id', 'district_name', 'lv3_desc']),\n",
    "        (avg_rev_municipality_lv3, ['store_id', 'municipality_name', 'lv3_desc']),\n",
    "        (avg_rev_lv3, ['store_id', 'lv3_desc']),\n",
    "        (avg_rev_lv4, ['store_id', 'lv4_desc']),\n",
    "        (num_stores_radius_extra, ['store_id', 'lat', 'lon']),\n",
    "        (cluster_simil, ['lat', 'lon']),\n",
    "        (closest_stores, ['store_id', 'lat', 'lon'] + store_types),\n",
    "        \n",
    "        remainder=\"passthrough\"\n",
    ")\n",
    "\n",
    "preprocessing.fit(stores_train_data)"
   ]
  },
  {
   "cell_type": "code",
   "execution_count": null,
   "metadata": {},
   "outputs": [],
   "source": [
    "train_ = preprocessing.transform(stores_train_data)"
   ]
  },
  {
   "cell_type": "code",
   "execution_count": null,
   "metadata": {},
   "outputs": [],
   "source": [
    "test_ = preprocessing.transform(stores_test_enriched)"
   ]
  },
  {
   "cell_type": "code",
   "execution_count": null,
   "metadata": {},
   "outputs": [],
   "source": [
    "train_set = pd.DataFrame(train_, columns=preprocessing.get_feature_names_out(), index=stores_train_data.index)"
   ]
  },
  {
   "cell_type": "code",
   "execution_count": null,
   "metadata": {},
   "outputs": [],
   "source": [
    "test_set = pd.DataFrame(test_, columns=preprocessing.get_feature_names_out(), index=stores_test_enriched.index)"
   ]
  },
  {
   "cell_type": "code",
   "execution_count": null,
   "metadata": {},
   "outputs": [],
   "source": [
    "train_set"
   ]
  },
  {
   "cell_type": "code",
   "execution_count": null,
   "metadata": {},
   "outputs": [],
   "source": [
    "test_set"
   ]
  },
  {
   "cell_type": "code",
   "execution_count": null,
   "metadata": {},
   "outputs": [],
   "source": [
    "drop_cols = ['remainder__store_name',\n",
    " 'remainder__plaace_hierarchy_id',\n",
    " 'remainder__sales_channel_name_x',\n",
    " 'remainder__grunnkrets_id',\n",
    " 'remainder__address',\n",
    " 'remainder__grunnkrets_name',\n",
    " 'remainder__geometry',\n",
    " 'remainder__sales_channel_name_y',\n",
    " 'remainder__lv1',\n",
    " 'remainder__lv2',\n",
    " 'remainder__lv3',\n",
    " 'remainder__lv4']\n",
    "\n",
    "# 'remainder__grunnkrets_name_num_kids',\n",
    "#  'remainder__grunnkrets_name_num_kids+',\n",
    "#  'remainder__grunnkrets_name_num_youths',\n",
    "#  'remainder__grunnkrets_name_num_youthAdult',\n",
    "#  'remainder__grunnkrets_name_num_adult',\n",
    "#  'remainder__grunnkrets_name_num_adults+',\n",
    "#  'remainder__grunnkrets_name_num_pensinors',\n",
    "#  'remainder__grunnkrets_name_kids_%',\n",
    "#  'remainder__grunnkrets_name_kids+_%',\n",
    "#  'remainder__grunnkrets_name_youths_%',\n",
    "#  'remainder__grunnkrets_name_youthAdult_%',\n",
    "#  'remainder__grunnkrets_name_adult_%',\n",
    "#  'remainder__grunnkrets_name_adults+_%',\n",
    "#  'remainder__grunnkrets_name_pensinors_%',\n",
    "#  'remainder__district_name_num_kids',\n",
    "#  'remainder__district_name_num_kids+',\n",
    "#  'remainder__district_name_num_youths',\n",
    "#  'remainder__district_name_num_youthAdult',\n",
    "#  'remainder__district_name_num_adult',\n",
    "#  'remainder__district_name_num_adults+',\n",
    "#  'remainder__district_name_num_pensinors',\n",
    "#  'remainder__district_name_kids_%',\n",
    "#  'remainder__district_name_kids+_%',\n",
    "#  'remainder__district_name_youths_%',\n",
    "#  'remainder__district_name_youthAdult_%',\n",
    "#  'remainder__district_name_adult_%',\n",
    "#  'remainder__district_name_adults+_%',\n",
    "#  'remainder__district_name_pensinors_%',\n",
    "#  'remainder__municipality_name_num_kids',\n",
    "#  'remainder__municipality_name_num_kids+',\n",
    "#  'remainder__municipality_name_num_youths',\n",
    "#  'remainder__municipality_name_num_youthAdult',\n",
    "#  'remainder__municipality_name_num_adult',\n",
    "#  'remainder__municipality_name_num_adults+',\n",
    "#  'remainder__municipality_name_num_pensinors',\n",
    "#  'remainder__municipality_name_kids_%',\n",
    "#  'remainder__municipality_name_kids+_%',\n",
    "#  'remainder__municipality_name_youths_%',\n",
    "#  'remainder__municipality_name_youthAdult_%',\n",
    "#  'remainder__municipality_name_adult_%',\n",
    "#  'remainder__municipality_name_adults+_%',\n",
    "#  'remainder__municipality_name_pensinors_%',\n",
    "#  'remainder__grunnkrets_name_couple_children_0_to_5_years',\n",
    "#  'remainder__grunnkrets_name_couple_children_18_or_above',\n",
    "#  'remainder__grunnkrets_name_couple_children_6_to_17_years',\n",
    "#  'remainder__grunnkrets_name_couple_without_children',\n",
    "#  'remainder__grunnkrets_name_single_parent_children_0_to_5_years',\n",
    "#  'remainder__grunnkrets_name_single_parent_children_18_or_above',\n",
    "#  'remainder__grunnkrets_name_single_parent_children_6_to_17_years',\n",
    "#  'remainder__grunnkrets_name_singles',\n",
    "#  'remainder__grunnkrets_name_%_dist_of_couple_children_0_to_5_years',\n",
    "#  'remainder__grunnkrets_name_%_dist_of_couple_children_18_or_above',\n",
    "#  'remainder__grunnkrets_name_%_dist_of_couple_children_6_to_17_years',\n",
    "#  'remainder__grunnkrets_name_%_dist_of_couple_without_children',\n",
    "#  'remainder__grunnkrets_name_%_dist_of_single_parent_children_0_to_5_years',\n",
    "#  'remainder__grunnkrets_name_%_dist_of_single_parent_children_18_or_above',\n",
    "#  'remainder__grunnkrets_name_%_dist_of_single_parent_children_6_to_17_years',\n",
    "#  'remainder__grunnkrets_name_%_dist_of_singles',\n",
    "#  'remainder__district_name_couple_children_0_to_5_years',\n",
    "#  'remainder__district_name_couple_children_18_or_above',\n",
    "#  'remainder__district_name_couple_children_6_to_17_years',\n",
    "#  'remainder__district_name_couple_without_children',\n",
    "#  'remainder__district_name_single_parent_children_0_to_5_years',\n",
    "#  'remainder__district_name_single_parent_children_18_or_above',\n",
    "#  'remainder__district_name_single_parent_children_6_to_17_years',\n",
    "#  'remainder__district_name_singles',\n",
    "#  'remainder__district_name_%_dist_of_couple_children_0_to_5_years',\n",
    "#  'remainder__district_name_%_dist_of_couple_children_18_or_above',\n",
    "#  'remainder__district_name_%_dist_of_couple_children_6_to_17_years',\n",
    "#  'remainder__district_name_%_dist_of_couple_without_children',\n",
    "#  'remainder__district_name_%_dist_of_single_parent_children_0_to_5_years',\n",
    "#  'remainder__district_name_%_dist_of_single_parent_children_18_or_above',\n",
    "#  'remainder__district_name_%_dist_of_single_parent_children_6_to_17_years',\n",
    "#  'remainder__district_name_%_dist_of_singles',\n",
    "#  'remainder__municipality_name_couple_children_0_to_5_years',\n",
    "#  'remainder__municipality_name_couple_children_18_or_above',\n",
    "#  'remainder__municipality_name_couple_children_6_to_17_years',\n",
    "#  'remainder__municipality_name_couple_without_children',\n",
    "#  'remainder__municipality_name_single_parent_children_0_to_5_years',\n",
    "#  'remainder__municipality_name_single_parent_children_18_or_above',\n",
    "#  'remainder__municipality_name_single_parent_children_6_to_17_years',\n",
    "#  'remainder__municipality_name_singles',\n",
    "#  'remainder__municipality_name_%_dist_of_couple_children_0_to_5_years',\n",
    "#  'remainder__municipality_name_%_dist_of_couple_children_18_or_above',\n",
    "#  'remainder__municipality_name_%_dist_of_couple_children_6_to_17_years',\n",
    "#  'remainder__municipality_name_%_dist_of_couple_without_children',\n",
    "#  'remainder__municipality_name_%_dist_of_single_parent_children_0_to_5_years',\n",
    "#  'remainder__municipality_name_%_dist_of_single_parent_children_18_or_above',\n",
    "#  'remainder__municipality_name_%_dist_of_single_parent_children_6_to_17_years',\n",
    "#  'remainder__municipality_name_%_dist_of_singles',"
   ]
  },
  {
   "cell_type": "code",
   "execution_count": null,
   "metadata": {},
   "outputs": [],
   "source": [
    "import h2o\n",
    "from h2o.automl import H2OAutoML\n",
    "\n",
    "# Start the H2O cluster (locally)\n",
    "h2o.init()\n",
    "\n",
    "# Import a sample binary outcome train/test set into H2O\n",
    "train = h2o.H2OFrame(pd.concat([train_set[1000:], stores_train_labels[1000:]], axis=1).drop(drop_cols, axis=1))\n",
    "test = h2o.H2OFrame(train_set[0:1000].drop(drop_cols, axis=1))\n",
    "test_labels = stores_train_labels[0:1000]\n",
    "#test = h2o.H2OFrame(pd.concat([test_set, stores_test_enriched[['store_id']]], axis=1).drop(drop_cols, axis=1))\n",
    "\n",
    "# Identify predictors and response\n",
    "x = train.columns\n",
    "y = \"revenue\"\n",
    "x.remove(y)\n",
    "\n",
    "# Run AutoML for 20 base models\n",
    "aml = H2OAutoML(max_models=20, seed=1)\n",
    "aml.train(x=x, y=y, training_frame=train)\n",
    "\n",
    "# View the AutoML Leaderboard\n",
    "lb = aml.leaderboard\n",
    "lb.head(rows=lb.nrows)  # Print all rows instead of default (10 rows)\n",
    "\n",
    "# The leader model is stored here\n",
    "aml.leader"
   ]
  },
  {
   "cell_type": "code",
   "execution_count": null,
   "metadata": {},
   "outputs": [],
   "source": [
    "preds_avg = aml.predict(test)\n",
    "\n",
    "preds_best = aml.leader.predict(test)"
   ]
  },
  {
   "cell_type": "code",
   "execution_count": null,
   "metadata": {},
   "outputs": [],
   "source": [
    "df = test.cbind(preds_best)\n",
    "df = df.as_data_frame(use_pandas=True)\n",
    "result = df.loc[:,(\"store_id\", 'predict')]\n",
    "submission = result.rename(columns = {\"store_id\": \"id\",  \"predict\" : \"predicted\"})\n",
    "submission.to_csv(\"StackedEnsembleBestOfFamily2.csv\", index = False)\n",
    "\n",
    "submission"
   ]
  },
  {
   "cell_type": "code",
   "execution_count": null,
   "metadata": {},
   "outputs": [],
   "source": [
    "m = h2o.get_model(lb[1,\"model_id\"])\n",
    "m.varimp(use_pandas=True)"
   ]
  },
  {
   "cell_type": "code",
   "execution_count": null,
   "metadata": {},
   "outputs": [],
   "source": [
    "pd.concat([train_set, stores_train_labels], axis=1).to_csv(\"train_set.csv\", index=False)\n",
    "pd.concat([test_set, stores_test_enriched[['store_id']]], axis=1).to_csv(\"test_set.csv\", index=False)"
   ]
  },
  {
   "cell_type": "code",
   "execution_count": null,
   "metadata": {},
   "outputs": [],
   "source": [
    "from sklearn.preprocessing import StandardScaler\n",
    "num_cols = train_set.select_dtypes(include=[np.number])\n",
    "\n",
    "std_scaler = StandardScaler()\n",
    "housing_num_std_scaled = std_scaler.fit_transform(housing_num)"
   ]
  }
 ],
 "metadata": {
  "kernelspec": {
   "display_name": "Python 3.10.4 ('sklearn-env')",
   "language": "python",
   "name": "python3"
  },
  "language_info": {
   "codemirror_mode": {
    "name": "ipython",
    "version": 3
   },
   "file_extension": ".py",
   "mimetype": "text/x-python",
   "name": "python",
   "nbconvert_exporter": "python",
   "pygments_lexer": "ipython3",
   "version": "3.10.4"
  },
  "orig_nbformat": 4,
  "vscode": {
   "interpreter": {
    "hash": "0b486652d2e6c5ac00f1af9aaa5d14fac25fa6ee0068e5fd7a5ee238732fb741"
   }
  }
 },
 "nbformat": 4,
 "nbformat_minor": 2
}
